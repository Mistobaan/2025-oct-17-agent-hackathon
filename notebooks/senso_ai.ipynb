{
 "cells": [
  {
   "cell_type": "markdown",
   "id": "104cc46a",
   "metadata": {},
   "source": [
    "# Overview"
   ]
  },
  {
   "cell_type": "code",
   "execution_count": 8,
   "id": "5f4be15e",
   "metadata": {},
   "outputs": [
    {
     "name": "stdout",
     "output_type": "stream",
     "text": [
      "/Users/fmilo/workspace/sandbox/2025-oct-17-agent-hackathon\n"
     ]
    }
   ],
   "source": [
    "%pwd\n",
    "%cd .."
   ]
  },
  {
   "cell_type": "code",
   "execution_count": 28,
   "id": "582fc25b",
   "metadata": {},
   "outputs": [],
   "source": [
    "import os\n",
    "import requests\n",
    "\n",
    "import dotenv\n",
    "\n",
    "dotenv.load_dotenv()\n",
    "\n",
    "SENSO_API_KEY = os.environ['SENSO_API_KEY']\n",
    "assert SENSO_API_KEY, \"SENSO_API_KEY not set\"\n",
    "\n",
    "API  = \"https://sdk.senso.ai/api/v1\"\n",
    "HDR  = {\n",
    "    \"Authorization\": f\"Bearer {SENSO_API_KEY}\",\n",
    "    \"Content-Type\": \"application/json\"\n",
    "}\n"
   ]
  },
  {
   "cell_type": "code",
   "execution_count": 29,
   "id": "a057ede7",
   "metadata": {},
   "outputs": [
    {
     "name": "stdout",
     "output_type": "stream",
     "text": [
      "\u001b[1m\u001b[36mdatasets\u001b[m\u001b[m       \u001b[1m\u001b[36mnotebooks\u001b[m\u001b[m      pyproject.toml README.md      uv.lock\n"
     ]
    }
   ],
   "source": [
    "!ls ."
   ]
  },
  {
   "cell_type": "code",
   "execution_count": 30,
   "id": "1a367a03",
   "metadata": {},
   "outputs": [
    {
     "name": "stdout",
     "output_type": "stream",
     "text": [
      "{'url': 'https://docs.stack-ai.com/', 'crawl': {'loadedUrl': 'https://docs.stack-ai.com/stack-ai/', 'loadedTime': '2025-10-17T18:27:59.529Z', 'referrerUrl': 'https://docs.stack-ai.com/', 'depth': 0, 'httpStatusCode': 200}, 'metadata': {'canonicalUrl': 'https://docs.stack-ai.com/stack-ai', 'title': 'What Makes StackAI Unique | StackAI', 'description': 'Quickly deploy agents for your enterprise company with a no-code platform anyone can use.', 'author': None, 'keywords': None, 'languageCode': 'en', 'openGraph': [{'property': 'og:title', 'content': 'What Makes StackAI Unique | StackAI'}, {'property': 'og:description', 'content': 'Quickly deploy agents for your enterprise company with a no-code platform anyone can use.'}, {'property': 'og:image', 'content': 'https://docs.stack-ai.com/stack-ai/~gitbook/image?url=https%3A%2F%2F3621678242-files.gitbook.io%2F%7E%2Ffiles%2Fv0%2Fb%2Fgitbook-x-prod.appspot.com%2Fo%2Forganizations%252F2asIZ16y1YqfkPhoidZ7%252Fsites%252Fsite_H5ZPw%252Fsocialpreview%252FwXnUt6riyYV2xT1p4Reb%252FAnnouncement%2520V1.png%3Falt%3Dmedia%26token%3D74ad1f33-67f3-4084-b792-c27c107738af&width=1200&height=630&sign=1cda439e&sv=2'}], 'jsonLd': None, 'headers': {'date': 'Fri, 17 Oct 2025 18:27:58 GMT', 'content-type': 'text/html; charset=utf-8', 'content-encoding': 'br', 'cf-ray': '9901da5e5f00a338-SEA', 'cf-cache-status': 'DYNAMIC', 'age': '1677', 'cache-control': 'public, max-age=0, must-revalidate', 'strict-transport-security': 'max-age=31536000', 'vary': 'RSC, Next-Router-State-Tree, Next-Router-Prefetch, Next-Router-Segment-Prefetch, accept-encoding', 'content-security-policy': \"default-src 'self' *; script-src 'self' 'unsafe-inline' 'unsafe-eval' *; style-src 'self' 'unsafe-inline' blob: *; img-src * 'self' blob: data:; connect-src *; font-src *; frame-src *; object-src 'none'; base-uri 'self' https://static-2v.gitbook.com; form-action 'self' https://static-2v.gitbook.com *; frame-ancestors https: ;\", 'referrer-policy': 'no-referrer-when-downgrade', 'x-content-type-options': 'nosniff', 'x-gitbook-route-site': 'docs.stack-ai.com/stack-ai/', 'x-gitbook-route-type': 'static', 'x-gitbook-target': '2v', 'x-matched-path': '/sites/static/[mode]/[siteURL]/[siteData]/[pagePath]', 'x-nextjs-prerender': '1', 'x-nextjs-stale-time': '300', 'x-vercel-cache': 'HIT', 'x-vercel-id': 'pdx1::iad1::4jdlz-1760725677854-2f17eb349a77', 'server': 'cloudflare', 'alt-svc': 'h3=\":443\"; ma=86400', 'x-firefox-spdy': 'h2'}}, 'screenshotUrl': 'https://api.apify.com/v2/key-value-stores/3K2WBdQQFTu6EGDhJ/records/SCREENSHOT-docs-stack-ai-com--a0b32020.jpg', 'text': \"What Makes StackAI Unique | StackAI\\nQuickly deploy agents for your enterprise company with a no-code platform anyone can use.\\nStackAI is an enterprise platform for building and deploying AI agents, with a strong focus on governance and security.\\nIT and Operations teams utilize StackAI to deploy internal applications that enhance and automate business processes, ranging from the simplest use cases, such as chatbots that retrieve information from databases like Microsoft SharePoint, to the most sophisticated automations, including performing in-depth research to generate investment memos.\\nStackAI's powerful orchestration engine and extensive integrations simplify and accelerate the automation of business processes. We provide the observability and controls necessary to deploy AI Agents across your organization. That is why banks, defense companies, and governments trust us to accelerate their transition to an AI-first organization and streamline their productivity.\\nEnd-to-End Experience\\nStackAI offers an end-to-end experience, allowing users to build both the logic of the AI agent using a drag-and-drop workflow builder and the interface of the AI agent by selecting pre-built user interfaces. Once the AI Agent is configured, it can be deployed and monitored with a few clicks.\\nAI Pipeline & Integrations\\nAll components to build an AI application are available in StackAI with different levels of abstraction to help both non-technical and technical teams. The entire data pipeline needed for deploying AI applications can be configured in just a few steps.\\nFrom document indexing to retrieval, users can build Retrieval Augmented Generation (RAG) systems by simply dragging a “Knowledge Base” node into their workflow, with default settings optimized for 90% of the use cases. This significantly streamlines the development of AI applications for both non-technical and technical users (i.e., IT teams new to AI development).\\nFunction calling, implemented through the concept of “Tools,” is equally intuitive. Users only need to select the desired tools at the LLM level; no code or complex setup required.\\nStackAI also offers a wide range of integrations with both established systems (such as SharePoint, SAP, Workday, Salesforce, etc) as well as modern SaaS companies (like Exa AI, Snowflake, and Miro), making data ingestion seamless and efficient.\\nImplementation Support\\nStackAI provides the platform and forward-deployment engineers to help customers build complex use cases and deploy those with confidence. Given the pace of innovation in AI, we offer the necessary guidance both with AI strategy as well as with tactical development advice, from testing new AI models to experimenting with different agentic architectures.\\nStackAI supports all enterprise customers with weekly co-building sessions led by forward-deployed engineers, GenAI-focused hackathons (also known as Stackathons), and Quarterly Business Review (QBR) sessions to align on progress and roadmap priorities.\\nAI Governance\\nStackAI is SOC 2 Type II, HIPAA, and GDPR compliant, with ISO 27001 certification in progress. For organizations with strict data residency or sovereignty requirements, StackAI offers On-Premise deployment options, critical for industries like defense and finance. This capability sets us apart from most providers; since they force customers to use their cloud solution.\\nGranular Role-Based Access Control (RBAC) enables admins to precisely govern who can modify and interact with LLMs, edit Knowledge Bases, or publish Workflows. Every component, from interfaces to citations, can be secured, authenticated (e.g. via SSO), and production-locked to ensure transparent accountability and control.\\nAdmins can enforce approval flows, protect production environments from accidental edits, and ensure only reviewed agents are launched, with version control of all changes. Furthermore, Admins receive notifications of the status of their agents in production in real-time.\\nLast updated 3 months ago\", 'markdown': \"# What Makes StackAI Unique | StackAI\\n\\nQuickly deploy agents for your enterprise company with a no-code platform anyone can use.\\n\\nStackAI is an enterprise platform for building and deploying AI agents, with a strong focus on governance and security.\\n\\nIT and Operations teams utilize StackAI to deploy internal applications that enhance and automate business processes, ranging from the simplest use cases, such as chatbots that retrieve information from databases like Microsoft SharePoint, to the most sophisticated automations, including performing in-depth research to generate investment memos.\\n\\nStackAI's powerful orchestration engine and extensive integrations simplify and accelerate the automation of business processes. We provide the observability and controls necessary to deploy AI Agents across your organization. That is why banks, defense companies, and governments trust us to accelerate their transition to an AI-first organization and streamline their productivity.\\n\\n### \\n\\nEnd-to-End Experience\\n\\nStackAI offers an end-to-end experience, allowing users to build both the logic of the AI agent using a drag-and-drop workflow builder and the interface of the AI agent by selecting pre-built user interfaces. Once the AI Agent is configured, it can be deployed and monitored with a few clicks.\\n\\n### \\n\\nAI Pipeline & Integrations\\n\\nAll components to build an AI application are available in StackAI with different levels of abstraction to help both non-technical and technical teams. The entire data pipeline needed for deploying AI applications can be configured in just a few steps.\\n\\nFrom document indexing to retrieval, users can build Retrieval Augmented Generation (RAG) systems by simply dragging a “Knowledge Base” node into their workflow, with default settings optimized for 90% of the use cases. This significantly streamlines the development of AI applications for both non-technical and technical users (i.e., IT teams new to AI development).\\n\\nFunction calling, implemented through the concept of “Tools,” is equally intuitive. Users only need to select the desired tools at the LLM level; no code or complex setup required.\\n\\nStackAI also offers a wide range of integrations with both established systems (such as SharePoint, SAP, Workday, Salesforce, etc) as well as modern SaaS companies (like Exa AI, Snowflake, and Miro), making data ingestion seamless and efficient.\\n\\n### \\n\\nImplementation Support\\n\\nStackAI provides the platform and forward-deployment engineers to help customers build complex use cases and deploy those with confidence. Given the pace of innovation in AI, we offer the necessary guidance both with AI strategy as well as with tactical development advice, from testing new AI models to experimenting with different agentic architectures.\\n\\nStackAI supports all enterprise customers with weekly co-building sessions led by forward-deployed engineers, GenAI-focused hackathons (also known as Stackathons), and Quarterly Business Review (QBR) sessions to align on progress and roadmap priorities.\\n\\n### \\n\\nAI Governance\\n\\nStackAI is SOC 2 Type II, HIPAA, and GDPR compliant, with ISO 27001 certification in progress. For organizations with strict data residency or sovereignty requirements, StackAI offers On-Premise deployment options, critical for industries like defense and finance. This capability sets us apart from most providers; since they force customers to use their cloud solution.\\n\\nGranular Role-Based Access Control (RBAC) enables admins to precisely govern who can modify and interact with LLMs, edit Knowledge Bases, or publish Workflows. Every component, from interfaces to citations, can be secured, authenticated (e.g. via SSO), and production-locked to ensure transparent accountability and control.\\n\\nAdmins can enforce approval flows, protect production environments from accidental edits, and ensure only reviewed agents are launched, with version control of all changes. Furthermore, Admins receive notifications of the status of their agents in production in real-time.\\n\\nLast updated 3 months ago\", 'debug': {'requestHandlerMode': 'browser'}}\n"
     ]
    }
   ],
   "source": [
    "import json\n",
    "\n",
    "with open(\"datasets/ai_stack_2025-10-17_18-31-26-916.jsonl\") as fd:\n",
    "    for line in fd.readlines():\n",
    "        doc = json.loads(line)\n",
    "        print(doc)\n",
    "        break\n",
    "        "
   ]
  },
  {
   "cell_type": "code",
   "execution_count": 31,
   "id": "92235da8",
   "metadata": {},
   "outputs": [
    {
     "name": "stdout",
     "output_type": "stream",
     "text": [
      "dict_keys(['url', 'crawl', 'metadata', 'screenshotUrl', 'text', 'markdown', 'debug'])\n"
     ]
    }
   ],
   "source": [
    "print(doc.keys())"
   ]
  },
  {
   "cell_type": "code",
   "execution_count": 32,
   "id": "2480542e",
   "metadata": {},
   "outputs": [
    {
     "name": "stdout",
     "output_type": "stream",
     "text": [
      "# What Makes StackAI Unique | StackAI\n",
      "\n",
      "Quickly deploy agents for your enterprise company with a no-code platform anyone can use.\n",
      "\n",
      "StackAI is an enterprise platform for building and deploying AI agents, with a strong focus on governance and security.\n",
      "\n",
      "IT and Operations teams utilize StackAI to deploy internal applications that enhance and automate business processes, ranging from the simplest use cases, such as chatbots that retrieve information from databases like Microsoft SharePoint, to the most sophisticated automations, including performing in-depth research to generate investment memos.\n",
      "\n",
      "StackAI's powerful orchestration engine and extensive integrations simplify and accelerate the automation of business processes. We provide the observability and controls necessary to deploy AI Agents across your organization. That is why banks, defense companies, and governments trust us to accelerate their transition to an AI-first organization and streamline their productivity.\n",
      "\n",
      "### \n",
      "\n",
      "End-to-End Experience\n",
      "\n",
      "StackAI offers an end-to-end experience, allowing users to build both the logic of the AI agent using a drag-and-drop workflow builder and the interface of the AI agent by selecting pre-built user interfaces. Once the AI Agent is configured, it can be deployed and monitored with a few clicks.\n",
      "\n",
      "### \n",
      "\n",
      "AI Pipeline & Integrations\n",
      "\n",
      "All components to build an AI application are available in StackAI with different levels of abstraction to help both non-technical and technical teams. The entire data pipeline needed for deploying AI applications can be configured in just a few steps.\n",
      "\n",
      "From document indexing to retrieval, users can build Retrieval Augmented Generation (RAG) systems by simply dragging a “Knowledge Base” node into their workflow, with default settings optimized for 90% of the use cases. This significantly streamlines the development of AI applications for both non-technical and technical users (i.e., IT teams new to AI development).\n",
      "\n",
      "Function calling, implemented through the concept of “Tools,” is equally intuitive. Users only need to select the desired tools at the LLM level; no code or complex setup required.\n",
      "\n",
      "StackAI also offers a wide range of integrations with both established systems (such as SharePoint, SAP, Workday, Salesforce, etc) as well as modern SaaS companies (like Exa AI, Snowflake, and Miro), making data ingestion seamless and efficient.\n",
      "\n",
      "### \n",
      "\n",
      "Implementation Support\n",
      "\n",
      "StackAI provides the platform and forward-deployment engineers to help customers build complex use cases and deploy those with confidence. Given the pace of innovation in AI, we offer the necessary guidance both with AI strategy as well as with tactical development advice, from testing new AI models to experimenting with different agentic architectures.\n",
      "\n",
      "StackAI supports all enterprise customers with weekly co-building sessions led by forward-deployed engineers, GenAI-focused hackathons (also known as Stackathons), and Quarterly Business Review (QBR) sessions to align on progress and roadmap priorities.\n",
      "\n",
      "### \n",
      "\n",
      "AI Governance\n",
      "\n",
      "StackAI is SOC 2 Type II, HIPAA, and GDPR compliant, with ISO 27001 certification in progress. For organizations with strict data residency or sovereignty requirements, StackAI offers On-Premise deployment options, critical for industries like defense and finance. This capability sets us apart from most providers; since they force customers to use their cloud solution.\n",
      "\n",
      "Granular Role-Based Access Control (RBAC) enables admins to precisely govern who can modify and interact with LLMs, edit Knowledge Bases, or publish Workflows. Every component, from interfaces to citations, can be secured, authenticated (e.g. via SSO), and production-locked to ensure transparent accountability and control.\n",
      "\n",
      "Admins can enforce approval flows, protect production environments from accidental edits, and ensure only reviewed agents are launched, with version control of all changes. Furthermore, Admins receive notifications of the status of their agents in production in real-time.\n",
      "\n",
      "Last updated 3 months ago\n"
     ]
    }
   ],
   "source": [
    "print(doc['markdown'])"
   ]
  },
  {
   "cell_type": "code",
   "execution_count": 33,
   "id": "d83d66d8",
   "metadata": {},
   "outputs": [
    {
     "data": {
      "text/plain": [
       "{'url': 'https://docs.stack-ai.com/',\n",
       " 'crawl': {'loadedUrl': 'https://docs.stack-ai.com/stack-ai/',\n",
       "  'loadedTime': '2025-10-17T18:27:59.529Z',\n",
       "  'referrerUrl': 'https://docs.stack-ai.com/',\n",
       "  'depth': 0,\n",
       "  'httpStatusCode': 200},\n",
       " 'metadata': {'canonicalUrl': 'https://docs.stack-ai.com/stack-ai',\n",
       "  'title': 'What Makes StackAI Unique | StackAI',\n",
       "  'description': 'Quickly deploy agents for your enterprise company with a no-code platform anyone can use.',\n",
       "  'author': None,\n",
       "  'keywords': None,\n",
       "  'languageCode': 'en',\n",
       "  'openGraph': [{'property': 'og:title',\n",
       "    'content': 'What Makes StackAI Unique | StackAI'},\n",
       "   {'property': 'og:description',\n",
       "    'content': 'Quickly deploy agents for your enterprise company with a no-code platform anyone can use.'},\n",
       "   {'property': 'og:image',\n",
       "    'content': 'https://docs.stack-ai.com/stack-ai/~gitbook/image?url=https%3A%2F%2F3621678242-files.gitbook.io%2F%7E%2Ffiles%2Fv0%2Fb%2Fgitbook-x-prod.appspot.com%2Fo%2Forganizations%252F2asIZ16y1YqfkPhoidZ7%252Fsites%252Fsite_H5ZPw%252Fsocialpreview%252FwXnUt6riyYV2xT1p4Reb%252FAnnouncement%2520V1.png%3Falt%3Dmedia%26token%3D74ad1f33-67f3-4084-b792-c27c107738af&width=1200&height=630&sign=1cda439e&sv=2'}],\n",
       "  'jsonLd': None,\n",
       "  'headers': {'date': 'Fri, 17 Oct 2025 18:27:58 GMT',\n",
       "   'content-type': 'text/html; charset=utf-8',\n",
       "   'content-encoding': 'br',\n",
       "   'cf-ray': '9901da5e5f00a338-SEA',\n",
       "   'cf-cache-status': 'DYNAMIC',\n",
       "   'age': '1677',\n",
       "   'cache-control': 'public, max-age=0, must-revalidate',\n",
       "   'strict-transport-security': 'max-age=31536000',\n",
       "   'vary': 'RSC, Next-Router-State-Tree, Next-Router-Prefetch, Next-Router-Segment-Prefetch, accept-encoding',\n",
       "   'content-security-policy': \"default-src 'self' *; script-src 'self' 'unsafe-inline' 'unsafe-eval' *; style-src 'self' 'unsafe-inline' blob: *; img-src * 'self' blob: data:; connect-src *; font-src *; frame-src *; object-src 'none'; base-uri 'self' https://static-2v.gitbook.com; form-action 'self' https://static-2v.gitbook.com *; frame-ancestors https: ;\",\n",
       "   'referrer-policy': 'no-referrer-when-downgrade',\n",
       "   'x-content-type-options': 'nosniff',\n",
       "   'x-gitbook-route-site': 'docs.stack-ai.com/stack-ai/',\n",
       "   'x-gitbook-route-type': 'static',\n",
       "   'x-gitbook-target': '2v',\n",
       "   'x-matched-path': '/sites/static/[mode]/[siteURL]/[siteData]/[pagePath]',\n",
       "   'x-nextjs-prerender': '1',\n",
       "   'x-nextjs-stale-time': '300',\n",
       "   'x-vercel-cache': 'HIT',\n",
       "   'x-vercel-id': 'pdx1::iad1::4jdlz-1760725677854-2f17eb349a77',\n",
       "   'server': 'cloudflare',\n",
       "   'alt-svc': 'h3=\":443\"; ma=86400',\n",
       "   'x-firefox-spdy': 'h2'}},\n",
       " 'screenshotUrl': 'https://api.apify.com/v2/key-value-stores/3K2WBdQQFTu6EGDhJ/records/SCREENSHOT-docs-stack-ai-com--a0b32020.jpg',\n",
       " 'text': \"What Makes StackAI Unique | StackAI\\nQuickly deploy agents for your enterprise company with a no-code platform anyone can use.\\nStackAI is an enterprise platform for building and deploying AI agents, with a strong focus on governance and security.\\nIT and Operations teams utilize StackAI to deploy internal applications that enhance and automate business processes, ranging from the simplest use cases, such as chatbots that retrieve information from databases like Microsoft SharePoint, to the most sophisticated automations, including performing in-depth research to generate investment memos.\\nStackAI's powerful orchestration engine and extensive integrations simplify and accelerate the automation of business processes. We provide the observability and controls necessary to deploy AI Agents across your organization. That is why banks, defense companies, and governments trust us to accelerate their transition to an AI-first organization and streamline their productivity.\\nEnd-to-End Experience\\nStackAI offers an end-to-end experience, allowing users to build both the logic of the AI agent using a drag-and-drop workflow builder and the interface of the AI agent by selecting pre-built user interfaces. Once the AI Agent is configured, it can be deployed and monitored with a few clicks.\\nAI Pipeline & Integrations\\nAll components to build an AI application are available in StackAI with different levels of abstraction to help both non-technical and technical teams. The entire data pipeline needed for deploying AI applications can be configured in just a few steps.\\nFrom document indexing to retrieval, users can build Retrieval Augmented Generation (RAG) systems by simply dragging a “Knowledge Base” node into their workflow, with default settings optimized for 90% of the use cases. This significantly streamlines the development of AI applications for both non-technical and technical users (i.e., IT teams new to AI development).\\nFunction calling, implemented through the concept of “Tools,” is equally intuitive. Users only need to select the desired tools at the LLM level; no code or complex setup required.\\nStackAI also offers a wide range of integrations with both established systems (such as SharePoint, SAP, Workday, Salesforce, etc) as well as modern SaaS companies (like Exa AI, Snowflake, and Miro), making data ingestion seamless and efficient.\\nImplementation Support\\nStackAI provides the platform and forward-deployment engineers to help customers build complex use cases and deploy those with confidence. Given the pace of innovation in AI, we offer the necessary guidance both with AI strategy as well as with tactical development advice, from testing new AI models to experimenting with different agentic architectures.\\nStackAI supports all enterprise customers with weekly co-building sessions led by forward-deployed engineers, GenAI-focused hackathons (also known as Stackathons), and Quarterly Business Review (QBR) sessions to align on progress and roadmap priorities.\\nAI Governance\\nStackAI is SOC 2 Type II, HIPAA, and GDPR compliant, with ISO 27001 certification in progress. For organizations with strict data residency or sovereignty requirements, StackAI offers On-Premise deployment options, critical for industries like defense and finance. This capability sets us apart from most providers; since they force customers to use their cloud solution.\\nGranular Role-Based Access Control (RBAC) enables admins to precisely govern who can modify and interact with LLMs, edit Knowledge Bases, or publish Workflows. Every component, from interfaces to citations, can be secured, authenticated (e.g. via SSO), and production-locked to ensure transparent accountability and control.\\nAdmins can enforce approval flows, protect production environments from accidental edits, and ensure only reviewed agents are launched, with version control of all changes. Furthermore, Admins receive notifications of the status of their agents in production in real-time.\\nLast updated 3 months ago\",\n",
       " 'markdown': \"# What Makes StackAI Unique | StackAI\\n\\nQuickly deploy agents for your enterprise company with a no-code platform anyone can use.\\n\\nStackAI is an enterprise platform for building and deploying AI agents, with a strong focus on governance and security.\\n\\nIT and Operations teams utilize StackAI to deploy internal applications that enhance and automate business processes, ranging from the simplest use cases, such as chatbots that retrieve information from databases like Microsoft SharePoint, to the most sophisticated automations, including performing in-depth research to generate investment memos.\\n\\nStackAI's powerful orchestration engine and extensive integrations simplify and accelerate the automation of business processes. We provide the observability and controls necessary to deploy AI Agents across your organization. That is why banks, defense companies, and governments trust us to accelerate their transition to an AI-first organization and streamline their productivity.\\n\\n### \\n\\nEnd-to-End Experience\\n\\nStackAI offers an end-to-end experience, allowing users to build both the logic of the AI agent using a drag-and-drop workflow builder and the interface of the AI agent by selecting pre-built user interfaces. Once the AI Agent is configured, it can be deployed and monitored with a few clicks.\\n\\n### \\n\\nAI Pipeline & Integrations\\n\\nAll components to build an AI application are available in StackAI with different levels of abstraction to help both non-technical and technical teams. The entire data pipeline needed for deploying AI applications can be configured in just a few steps.\\n\\nFrom document indexing to retrieval, users can build Retrieval Augmented Generation (RAG) systems by simply dragging a “Knowledge Base” node into their workflow, with default settings optimized for 90% of the use cases. This significantly streamlines the development of AI applications for both non-technical and technical users (i.e., IT teams new to AI development).\\n\\nFunction calling, implemented through the concept of “Tools,” is equally intuitive. Users only need to select the desired tools at the LLM level; no code or complex setup required.\\n\\nStackAI also offers a wide range of integrations with both established systems (such as SharePoint, SAP, Workday, Salesforce, etc) as well as modern SaaS companies (like Exa AI, Snowflake, and Miro), making data ingestion seamless and efficient.\\n\\n### \\n\\nImplementation Support\\n\\nStackAI provides the platform and forward-deployment engineers to help customers build complex use cases and deploy those with confidence. Given the pace of innovation in AI, we offer the necessary guidance both with AI strategy as well as with tactical development advice, from testing new AI models to experimenting with different agentic architectures.\\n\\nStackAI supports all enterprise customers with weekly co-building sessions led by forward-deployed engineers, GenAI-focused hackathons (also known as Stackathons), and Quarterly Business Review (QBR) sessions to align on progress and roadmap priorities.\\n\\n### \\n\\nAI Governance\\n\\nStackAI is SOC 2 Type II, HIPAA, and GDPR compliant, with ISO 27001 certification in progress. For organizations with strict data residency or sovereignty requirements, StackAI offers On-Premise deployment options, critical for industries like defense and finance. This capability sets us apart from most providers; since they force customers to use their cloud solution.\\n\\nGranular Role-Based Access Control (RBAC) enables admins to precisely govern who can modify and interact with LLMs, edit Knowledge Bases, or publish Workflows. Every component, from interfaces to citations, can be secured, authenticated (e.g. via SSO), and production-locked to ensure transparent accountability and control.\\n\\nAdmins can enforce approval flows, protect production environments from accidental edits, and ensure only reviewed agents are launched, with version control of all changes. Furthermore, Admins receive notifications of the status of their agents in production in real-time.\\n\\nLast updated 3 months ago\",\n",
       " 'debug': {'requestHandlerMode': 'browser'}}"
      ]
     },
     "execution_count": 33,
     "metadata": {},
     "output_type": "execute_result"
    }
   ],
   "source": [
    "doc"
   ]
  },
  {
   "cell_type": "code",
   "execution_count": 34,
   "id": "1673ad03",
   "metadata": {},
   "outputs": [],
   "source": [
    "cid = requests.post(\n",
    "    f\"{API}/content/raw\",\n",
    "    headers=HDR,\n",
    "    json={\"title\": doc['metadata']['title'], \"body\": doc['markdown']}\n",
    ").json()"
   ]
  },
  {
   "cell_type": "code",
   "execution_count": 35,
   "id": "489e3c1f",
   "metadata": {},
   "outputs": [
    {
     "data": {
      "text/plain": [
       "{'status': 401, 'message': 'Authentication required'}"
      ]
     },
     "execution_count": 35,
     "metadata": {},
     "output_type": "execute_result"
    }
   ],
   "source": [
    "cid"
   ]
  },
  {
   "cell_type": "code",
   "execution_count": null,
   "id": "2b25b4ae",
   "metadata": {},
   "outputs": [],
   "source": []
  }
 ],
 "metadata": {
  "kernelspec": {
   "display_name": "2025-oct-17-agent-hackathon (3.13.7)",
   "language": "python",
   "name": "python3"
  },
  "language_info": {
   "codemirror_mode": {
    "name": "ipython",
    "version": 3
   },
   "file_extension": ".py",
   "mimetype": "text/x-python",
   "name": "python",
   "nbconvert_exporter": "python",
   "pygments_lexer": "ipython3",
   "version": "3.13.7"
  }
 },
 "nbformat": 4,
 "nbformat_minor": 5
}
